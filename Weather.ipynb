{
  "nbformat": 4,
  "nbformat_minor": 0,
  "metadata": {
    "colab": {
      "name": "Weather.ipynb",
      "provenance": [],
      "collapsed_sections": []
    },
    "kernelspec": {
      "name": "python3",
      "display_name": "Python 3"
    },
    "language_info": {
      "name": "python"
    }
  },
  "cells": [
    {
      "cell_type": "markdown",
      "source": [
        "# import libriaries"
      ],
      "metadata": {
        "id": "TVjBO6kPS0X7"
      }
    },
    {
      "cell_type": "code",
      "execution_count": 22,
      "metadata": {
        "id": "6-k83MlMLpYo"
      },
      "outputs": [],
      "source": [
        "import requests \n",
        "from lxml import html\n",
        "from bs4 import BeautifulSoup\n",
        "from datetime import datetime\n",
        "from tqdm import tqdm\n",
        "import sys\n",
        "from sklearn.ensemble import GradientBoostingRegressor\n",
        "\n",
        "import numpy as np\n",
        "import pandas as pd\n",
        "import time\n",
        "import csv\n",
        "\n",
        "import seaborn as sns\n",
        "from sklearn.ensemble import RandomForestRegressor\n",
        "from sklearn.isotonic import IsotonicRegression\n",
        "from sklearn.linear_model import LassoCV, RidgeCV, ElasticNetCV, LinearRegression\n",
        "from sklearn.preprocessing import StandardScaler, MinMaxScaler, RobustScaler, Normalizer, LabelEncoder\n",
        "from sklearn.ensemble import GradientBoostingRegressor, ExtraTreesRegressor\n",
        "from sklearn.svm import SVR\n",
        "from sklearn.preprocessing import StandardScaler \n",
        "\n",
        "from sklearn.model_selection import cross_val_score\n",
        "import seaborn as sns\n",
        "from sklearn.model_selection import GridSearchCV\n",
        "from sklearn.ensemble import StackingRegressor"
      ]
    },
    {
      "cell_type": "markdown",
      "source": [
        "# Main functions\n"
      ],
      "metadata": {
        "id": "WxJhbSSNS7g8"
      }
    },
    {
      "cell_type": "code",
      "source": [
        "def get_all_cities():\n",
        "  \"\"\"\n",
        "  return \n",
        "  - list of all cities for site https://sinoptik.com.ru\n",
        "  - dictionary like {city: region_of_city}\n",
        "  \"\"\"\n",
        "  url = f'https://sinoptik.com.ru/россия'\n",
        "  r = requests.Session().get(url).content\n",
        "  tree = html.fromstring(r)\n",
        "  city_list = [i.lower().replace(' ','-') for i in tree.xpath(\"//ul[@class = 'capital_list']//text()\") if i not in ['\\n']]\n",
        "  region_list = [i.lower().replace(' ','-') for i in tree.xpath(\"//div[@class = 'current_regions']//text()\") if i not in ['\\n']]\n",
        "\n",
        "  city_dict = {}\n",
        "  for city in city_list:\n",
        "    city_dict[city] = city\n",
        "\n",
        "  for region in region_list[:10]:\n",
        "    url = f\"https://sinoptik.com.ru/россия/{region.replace(' ','-').lower()}\"\n",
        "    r = requests.Session().get(url).content\n",
        "    tree = html.fromstring(r)\n",
        "    region_city = [i.lower().replace(' ','-') for i in tree.xpath(\"//section[@class = 'weather__on_big_cities']//text()\") if i not in ['\\n']][2:]\n",
        "    city_list += region_city\n",
        "\n",
        "    for city in region_city:\n",
        "      city_dict[city] = region\n",
        "\n",
        "  return city_list, city_dict"
      ],
      "metadata": {
        "id": "f05whklgmLog"
      },
      "execution_count": 2,
      "outputs": []
    },
    {
      "cell_type": "code",
      "source": [
        "def get_date(date, city = 'москва', city_of_region = 'Москва'):\n",
        "  \"\"\"\n",
        "  return update dataframe (df) by addition a news records of city\n",
        "  \"\"\"\n",
        "  global df\n",
        "\n",
        "  url = f'https://sinoptik.com.ru/погода-{city.lower()}/{date}'\n",
        "  r = requests.Session().get(url).content\n",
        "  tree = html.fromstring(r)\n",
        "  table_info = tree.xpath(\"//div[@class = 'weather__article_main_right']//text()\")\n",
        "\n",
        "  f = [i.replace('\\n','') for i in table_info if i not in ['\\n','0',]][4:]\n",
        "  for i in range(0, len(f), 11)[:-1]:\n",
        "    time = f[i] + f[i+1]\n",
        "    describe = f[i+2]\n",
        "    temperature = f[i+3]\n",
        "    feels = f[i+4]\n",
        "    pressure = f[i+5]\n",
        "    humidity = f[i+6]\n",
        "    wind_side = f[i+8].split(', ')[0]\n",
        "    wind = f[i+8].split(', ')[1]\n",
        "    chance_of_percipt = f[i+11-1]\n",
        "    forecast = f[-1]\n",
        "\n",
        "\n",
        "\n",
        "    df = df.append({\n",
        "        'date_time': date+' '+ time,\n",
        "        'region': city_of_region,\n",
        "        'city': city,\n",
        "        'describe': describe,\n",
        "        'Temperature, °C': temperature,\n",
        "        'feels like': feels,\n",
        "        'Pressure, mm': pressure,\n",
        "        'Humidity, %' : humidity,\n",
        "        'wind side': wind_side,\n",
        "        'Wind, mps': wind,\n",
        "        'Chance of precipit., %': chance_of_percipt,\n",
        "        'popular forecast': forecast}, ignore_index=True)\n",
        "  return df"
      ],
      "metadata": {
        "id": "pygqi9VGVU-N"
      },
      "execution_count": 4,
      "outputs": []
    },
    {
      "cell_type": "markdown",
      "source": [
        "# Run functions"
      ],
      "metadata": {
        "id": "IXSl4TsKTgb0"
      }
    },
    {
      "cell_type": "markdown",
      "source": [
        "The next block of code will finish in +- 1 hour. If you dont want wait, you can passed this step. You have a complete file that runs in the following steps"
      ],
      "metadata": {
        "id": "_QNUnTV6UKaL"
      }
    },
    {
      "cell_type": "markdown",
      "source": [
        "## 1 variant"
      ],
      "metadata": {
        "id": "1hDESiIDbF3I"
      }
    },
    {
      "cell_type": "code",
      "source": [
        "df = pd.DataFrame(columns = ['date_time', 'region', 'city', 'describe', 'Temperature, °C',\n",
        "                              'feels like', 'Pressure, mm', 'Humidity, %',\n",
        "                              'wind side', 'Wind, mps', 'Chance of precipit., %',\n",
        "                              'popular forecast'])\n",
        "\n",
        "dates = pd.date_range(start=\"2021-12-01\",end=datetime.today()\\\n",
        "                      .strftime('%Y-%m-%d')).strftime('%Y-%m-%d')\n",
        "\n",
        "city_list, city_dict = get_all_cities()\n",
        "\n",
        "with tqdm(total=len(dates)*len(city_list), file=sys.stdout) as pbar:\n",
        "  for i in range(len(dates)):\n",
        "      for city in city_list:\n",
        "        get_date(dates[i], city = city,  city_of_region = city_dict[city])\n",
        "        pbar.set_description('processed: %d' % (1 + i))\n",
        "        pbar.update(1)"
      ],
      "metadata": {
        "colab": {
          "base_uri": "https://localhost:8080/"
        },
        "id": "r8ALHudeNB8V",
        "outputId": "0ff527ea-96cf-44a0-cd0d-eab6f721f137"
      },
      "execution_count": 30,
      "outputs": [
        {
          "output_type": "stream",
          "name": "stdout",
          "text": [
            "processed: 12: 100%|██████████| 4812/4812 [56:28<00:00,  1.42it/s]\n"
          ]
        }
      ]
    },
    {
      "cell_type": "markdown",
      "source": [
        "Run this step by getting full information"
      ],
      "metadata": {
        "id": "zTM2C0NNVvHO"
      }
    },
    {
      "cell_type": "markdown",
      "source": [
        "## Second variant"
      ],
      "metadata": {
        "id": "jsgtCnqnbJ2e"
      }
    },
    {
      "cell_type": "code",
      "source": [
        "!wget 'https://github.com/beaver68/weather-parser/raw/main/weather_2021.zip'\n",
        "!unzip /content/weather_2021.zip\n",
        "\n",
        "df = pd.read_csv('weather_2021.csv')\n",
        "df.shape"
      ],
      "metadata": {
        "colab": {
          "base_uri": "https://localhost:8080/"
        },
        "id": "0FWLDis4YInX",
        "outputId": "1d4bc8bc-5be2-4df0-f38e-87267718a7d1"
      },
      "execution_count": 65,
      "outputs": [
        {
          "output_type": "stream",
          "name": "stdout",
          "text": [
            "--2021-12-12 11:34:17--  https://github.com/beaver68/weather-parser/raw/main/weather_2021.zip\n",
            "Resolving github.com (github.com)... 140.82.112.3\n",
            "Connecting to github.com (github.com)|140.82.112.3|:443... connected.\n",
            "HTTP request sent, awaiting response... 302 Found\n",
            "Location: https://raw.githubusercontent.com/beaver68/weather-parser/main/weather_2021.zip [following]\n",
            "--2021-12-12 11:34:17--  https://raw.githubusercontent.com/beaver68/weather-parser/main/weather_2021.zip\n",
            "Resolving raw.githubusercontent.com (raw.githubusercontent.com)... 185.199.108.133, 185.199.109.133, 185.199.110.133, ...\n",
            "Connecting to raw.githubusercontent.com (raw.githubusercontent.com)|185.199.108.133|:443... connected.\n",
            "HTTP request sent, awaiting response... 200 OK\n",
            "Length: 645708 (631K) [application/zip]\n",
            "Saving to: ‘weather_2021.zip’\n",
            "\n",
            "\rweather_2021.zip      0%[                    ]       0  --.-KB/s               \rweather_2021.zip    100%[===================>] 630.57K  --.-KB/s    in 0.006s  \n",
            "\n",
            "2021-12-12 11:34:17 (96.5 MB/s) - ‘weather_2021.zip’ saved [645708/645708]\n",
            "\n",
            "Archive:  /content/weather_2021.zip\n",
            "  inflating: weather_2021.csv        \n"
          ]
        },
        {
          "output_type": "execute_result",
          "data": {
            "text/plain": [
              "(38304, 12)"
            ]
          },
          "metadata": {},
          "execution_count": 65
        }
      ]
    },
    {
      "cell_type": "code",
      "source": [
        "df.head()"
      ],
      "metadata": {
        "colab": {
          "base_uri": "https://localhost:8080/",
          "height": 388
        },
        "id": "8-qHQUbHdLMO",
        "outputId": "4fefcea4-5de8-4868-f314-cd254a1f5fd7"
      },
      "execution_count": 66,
      "outputs": [
        {
          "output_type": "execute_result",
          "data": {
            "text/html": [
              "<div>\n",
              "<style scoped>\n",
              "    .dataframe tbody tr th:only-of-type {\n",
              "        vertical-align: middle;\n",
              "    }\n",
              "\n",
              "    .dataframe tbody tr th {\n",
              "        vertical-align: top;\n",
              "    }\n",
              "\n",
              "    .dataframe thead th {\n",
              "        text-align: right;\n",
              "    }\n",
              "</style>\n",
              "<table border=\"1\" class=\"dataframe\">\n",
              "  <thead>\n",
              "    <tr style=\"text-align: right;\">\n",
              "      <th></th>\n",
              "      <th>date_time</th>\n",
              "      <th>region</th>\n",
              "      <th>city</th>\n",
              "      <th>describe</th>\n",
              "      <th>Temperature, °C</th>\n",
              "      <th>feels like</th>\n",
              "      <th>Pressure, mm</th>\n",
              "      <th>Humidity, %</th>\n",
              "      <th>wind side</th>\n",
              "      <th>Wind, mps</th>\n",
              "      <th>Chance of precipit., %</th>\n",
              "      <th>popular forecast</th>\n",
              "    </tr>\n",
              "  </thead>\n",
              "  <tbody>\n",
              "    <tr>\n",
              "      <th>0</th>\n",
              "      <td>2021-12-01 02:00:00</td>\n",
              "      <td>москва</td>\n",
              "      <td>москва</td>\n",
              "      <td>Сплошная облачность, снег</td>\n",
              "      <td>-2</td>\n",
              "      <td>-9</td>\n",
              "      <td>723</td>\n",
              "      <td>79</td>\n",
              "      <td>Юго-западный</td>\n",
              "      <td>7.2</td>\n",
              "      <td>0</td>\n",
              "      <td>В первый день зимы почитается память святых Пл...</td>\n",
              "    </tr>\n",
              "    <tr>\n",
              "      <th>1</th>\n",
              "      <td>2021-12-01 05:00:00</td>\n",
              "      <td>москва</td>\n",
              "      <td>москва</td>\n",
              "      <td>Сплошная облачность, сильный снег</td>\n",
              "      <td>-3</td>\n",
              "      <td>-9</td>\n",
              "      <td>725</td>\n",
              "      <td>81</td>\n",
              "      <td>Юго-западный</td>\n",
              "      <td>6.9</td>\n",
              "      <td>0</td>\n",
              "      <td>В первый день зимы почитается память святых Пл...</td>\n",
              "    </tr>\n",
              "    <tr>\n",
              "      <th>2</th>\n",
              "      <td>2021-12-01 08:00:00</td>\n",
              "      <td>москва</td>\n",
              "      <td>москва</td>\n",
              "      <td>Сплошная облачность, снег</td>\n",
              "      <td>-3</td>\n",
              "      <td>-10</td>\n",
              "      <td>726</td>\n",
              "      <td>81</td>\n",
              "      <td>Юго-западный</td>\n",
              "      <td>6.7</td>\n",
              "      <td>0</td>\n",
              "      <td>В первый день зимы почитается память святых Пл...</td>\n",
              "    </tr>\n",
              "    <tr>\n",
              "      <th>3</th>\n",
              "      <td>2021-12-01 11:00:00</td>\n",
              "      <td>москва</td>\n",
              "      <td>москва</td>\n",
              "      <td>Сплошная облачность, снег</td>\n",
              "      <td>-3</td>\n",
              "      <td>-9</td>\n",
              "      <td>727</td>\n",
              "      <td>81</td>\n",
              "      <td>Юго-западный</td>\n",
              "      <td>6.1</td>\n",
              "      <td>0</td>\n",
              "      <td>В первый день зимы почитается память святых Пл...</td>\n",
              "    </tr>\n",
              "    <tr>\n",
              "      <th>4</th>\n",
              "      <td>2021-12-01 14:00:00</td>\n",
              "      <td>москва</td>\n",
              "      <td>москва</td>\n",
              "      <td>Сплошная облачность, снег</td>\n",
              "      <td>-3</td>\n",
              "      <td>-9</td>\n",
              "      <td>728</td>\n",
              "      <td>81</td>\n",
              "      <td>Юго-западный</td>\n",
              "      <td>5.8</td>\n",
              "      <td>0</td>\n",
              "      <td>В первый день зимы почитается память святых Пл...</td>\n",
              "    </tr>\n",
              "  </tbody>\n",
              "</table>\n",
              "</div>"
            ],
            "text/plain": [
              "             date_time  ...                                   popular forecast\n",
              "0  2021-12-01 02:00:00  ...  В первый день зимы почитается память святых Пл...\n",
              "1  2021-12-01 05:00:00  ...  В первый день зимы почитается память святых Пл...\n",
              "2  2021-12-01 08:00:00  ...  В первый день зимы почитается память святых Пл...\n",
              "3  2021-12-01 11:00:00  ...  В первый день зимы почитается память святых Пл...\n",
              "4  2021-12-01 14:00:00  ...  В первый день зимы почитается память святых Пл...\n",
              "\n",
              "[5 rows x 12 columns]"
            ]
          },
          "metadata": {},
          "execution_count": 66
        }
      ]
    },
    {
      "cell_type": "markdown",
      "source": [
        "# Change column type"
      ],
      "metadata": {
        "id": "1M2mFp2ZbNeM"
      }
    },
    {
      "cell_type": "code",
      "source": [
        "df['date_time'] = pd.to_datetime(df.date_time)\n",
        "df.set_index('date_time', inplace=True)\n",
        "\n",
        "df['Temperature, °C'] = df['Temperature, °C'].apply(lambda x: int(x[:-1]))\n",
        "df['feels like'] = df['feels like'].apply(lambda x: int(x[:-1]))\n",
        "\n",
        "df['Pressure, mm'] = df['Pressure, mm'].astype(int)\n",
        "df['Humidity, %'] = df['Humidity, %'].astype(int)\n",
        "df['Wind, mps'] = df['Wind, mps'].astype(float)\n",
        "\n",
        "df['Chance of precipit., %'] = df['Chance of precipit., %'].replace({'-':0})\n",
        "\n",
        "df.head()"
      ],
      "metadata": {
        "colab": {
          "base_uri": "https://localhost:8080/",
          "height": 418
        },
        "id": "PlDcH3KsXHYs",
        "outputId": "f094905d-f2a9-440c-fbf2-20a3c48c0966"
      },
      "execution_count": 32,
      "outputs": [
        {
          "output_type": "execute_result",
          "data": {
            "text/html": [
              "<div>\n",
              "<style scoped>\n",
              "    .dataframe tbody tr th:only-of-type {\n",
              "        vertical-align: middle;\n",
              "    }\n",
              "\n",
              "    .dataframe tbody tr th {\n",
              "        vertical-align: top;\n",
              "    }\n",
              "\n",
              "    .dataframe thead th {\n",
              "        text-align: right;\n",
              "    }\n",
              "</style>\n",
              "<table border=\"1\" class=\"dataframe\">\n",
              "  <thead>\n",
              "    <tr style=\"text-align: right;\">\n",
              "      <th></th>\n",
              "      <th>region</th>\n",
              "      <th>city</th>\n",
              "      <th>describe</th>\n",
              "      <th>Temperature, °C</th>\n",
              "      <th>feels like</th>\n",
              "      <th>Pressure, mm</th>\n",
              "      <th>Humidity, %</th>\n",
              "      <th>wind side</th>\n",
              "      <th>Wind, mps</th>\n",
              "      <th>Chance of precipit., %</th>\n",
              "      <th>popular forecast</th>\n",
              "    </tr>\n",
              "    <tr>\n",
              "      <th>date_time</th>\n",
              "      <th></th>\n",
              "      <th></th>\n",
              "      <th></th>\n",
              "      <th></th>\n",
              "      <th></th>\n",
              "      <th></th>\n",
              "      <th></th>\n",
              "      <th></th>\n",
              "      <th></th>\n",
              "      <th></th>\n",
              "      <th></th>\n",
              "    </tr>\n",
              "  </thead>\n",
              "  <tbody>\n",
              "    <tr>\n",
              "      <th>2021-12-01 02:00:00</th>\n",
              "      <td>москва</td>\n",
              "      <td>москва</td>\n",
              "      <td>Сплошная облачность, снег</td>\n",
              "      <td>-2</td>\n",
              "      <td>-9</td>\n",
              "      <td>723</td>\n",
              "      <td>79</td>\n",
              "      <td>Юго-западный</td>\n",
              "      <td>7.2</td>\n",
              "      <td>0</td>\n",
              "      <td>В первый день зимы почитается память святых Пл...</td>\n",
              "    </tr>\n",
              "    <tr>\n",
              "      <th>2021-12-01 05:00:00</th>\n",
              "      <td>москва</td>\n",
              "      <td>москва</td>\n",
              "      <td>Сплошная облачность, сильный снег</td>\n",
              "      <td>-3</td>\n",
              "      <td>-9</td>\n",
              "      <td>725</td>\n",
              "      <td>81</td>\n",
              "      <td>Юго-западный</td>\n",
              "      <td>6.9</td>\n",
              "      <td>0</td>\n",
              "      <td>В первый день зимы почитается память святых Пл...</td>\n",
              "    </tr>\n",
              "    <tr>\n",
              "      <th>2021-12-01 08:00:00</th>\n",
              "      <td>москва</td>\n",
              "      <td>москва</td>\n",
              "      <td>Сплошная облачность, снег</td>\n",
              "      <td>-3</td>\n",
              "      <td>-10</td>\n",
              "      <td>726</td>\n",
              "      <td>81</td>\n",
              "      <td>Юго-западный</td>\n",
              "      <td>6.7</td>\n",
              "      <td>0</td>\n",
              "      <td>В первый день зимы почитается память святых Пл...</td>\n",
              "    </tr>\n",
              "    <tr>\n",
              "      <th>2021-12-01 11:00:00</th>\n",
              "      <td>москва</td>\n",
              "      <td>москва</td>\n",
              "      <td>Сплошная облачность, снег</td>\n",
              "      <td>-3</td>\n",
              "      <td>-9</td>\n",
              "      <td>727</td>\n",
              "      <td>81</td>\n",
              "      <td>Юго-западный</td>\n",
              "      <td>6.1</td>\n",
              "      <td>0</td>\n",
              "      <td>В первый день зимы почитается память святых Пл...</td>\n",
              "    </tr>\n",
              "    <tr>\n",
              "      <th>2021-12-01 14:00:00</th>\n",
              "      <td>москва</td>\n",
              "      <td>москва</td>\n",
              "      <td>Сплошная облачность, снег</td>\n",
              "      <td>-3</td>\n",
              "      <td>-9</td>\n",
              "      <td>728</td>\n",
              "      <td>81</td>\n",
              "      <td>Юго-западный</td>\n",
              "      <td>5.8</td>\n",
              "      <td>0</td>\n",
              "      <td>В первый день зимы почитается память святых Пл...</td>\n",
              "    </tr>\n",
              "  </tbody>\n",
              "</table>\n",
              "</div>"
            ],
            "text/plain": [
              "                     region  ...                                   popular forecast\n",
              "date_time                    ...                                                   \n",
              "2021-12-01 02:00:00  москва  ...  В первый день зимы почитается память святых Пл...\n",
              "2021-12-01 05:00:00  москва  ...  В первый день зимы почитается память святых Пл...\n",
              "2021-12-01 08:00:00  москва  ...  В первый день зимы почитается память святых Пл...\n",
              "2021-12-01 11:00:00  москва  ...  В первый день зимы почитается память святых Пл...\n",
              "2021-12-01 14:00:00  москва  ...  В первый день зимы почитается память святых Пл...\n",
              "\n",
              "[5 rows x 11 columns]"
            ]
          },
          "metadata": {},
          "execution_count": 32
        }
      ]
    },
    {
      "cell_type": "markdown",
      "source": [
        "## Save to file "
      ],
      "metadata": {
        "id": "newbl5ZoSs1H"
      }
    },
    {
      "cell_type": "code",
      "source": [
        "df.to_csv('weather_2021.csv')"
      ],
      "metadata": {
        "id": "jsM6nkMWczp2"
      },
      "execution_count": 37,
      "outputs": []
    },
    {
      "cell_type": "markdown",
      "source": [
        "Drop duplicate records"
      ],
      "metadata": {
        "id": "gt-Utqkvbbgt"
      }
    },
    {
      "cell_type": "code",
      "source": [
        "df.drop_duplicates().shape"
      ],
      "metadata": {
        "colab": {
          "base_uri": "https://localhost:8080/"
        },
        "id": "UoO8Gxll9_lc",
        "outputId": "d6de7eb3-5369-49f1-f10e-b045c5945123"
      },
      "execution_count": 33,
      "outputs": [
        {
          "output_type": "execute_result",
          "data": {
            "text/plain": [
              "(36482, 11)"
            ]
          },
          "metadata": {},
          "execution_count": 33
        }
      ]
    },
    {
      "cell_type": "markdown",
      "source": [
        "using ML models for forecasting weather temperature"
      ],
      "metadata": {
        "id": "00JNx8BJbeoF"
      }
    },
    {
      "cell_type": "code",
      "source": [
        "from sklearn.model_selection import train_test_split\n",
        "from sklearn.linear_model import LassoCV, RidgeCV, ElasticNetCV, LinearRegression\n",
        "\n",
        "X = pd.DataFrame({'time': [i.timestamp() for i in df.index],\n",
        "                  #'feels like': df['feels like'],\n",
        "                  'Pressure, mm': df['Pressure, mm'],\n",
        "                  'Humidity, %\t': df['Humidity, %']\n",
        "})\n",
        "y = df['Temperature, °C']\n",
        "X_train, X_test, y_train, y_test = train_test_split(\n",
        "  X, y, test_size=0.33, random_state=42)\n"
      ],
      "metadata": {
        "id": "RZqUxxxpMJkq"
      },
      "execution_count": 43,
      "outputs": []
    },
    {
      "cell_type": "code",
      "source": [
        "mls = {\n",
        "        'GradientBoostingRegressor': GradientBoostingRegressor(random_state=0), \n",
        "        'linear': LinearRegression(), 'RandomForestRegressor':RandomForestRegressor(max_depth=2, random_state=0),\n",
        "        'LassoCV': LassoCV(), 'Ridge': RidgeCV(), 'ElasticNetCV': ElasticNetCV(),\n",
        "       'ExtraTreesRegressor': ExtraTreesRegressor(n_estimators=100, random_state=0)\n",
        "        }"
      ],
      "metadata": {
        "id": "CZozaDSDjpYk"
      },
      "execution_count": 44,
      "outputs": []
    },
    {
      "cell_type": "code",
      "source": [
        "from sklearn.metrics import r2_score, mean_absolute_error, mean_squared_error\n",
        "\n",
        "def mean_absolute_percentage_error(y_true, y_pred): \n",
        "    return np.mean(np.abs((y_true - y_pred) / y_true)) * 100\n",
        "\n",
        "d = pd.DataFrame()\n",
        "\n",
        "for model_name, model in mls.items():\n",
        "  grid = model\n",
        "  grid.fit(X_train, y_train)\n",
        "\n",
        "  grad_boost = pd.DataFrame({\n",
        "      'r2_train': [r2_score(y_train, grid.predict(X_train)).round(6)],\n",
        "      'r2_test': [r2_score(y_test, grid.predict(X_test)).round(6)],\n",
        "      'MAE': [mean_absolute_error(y_test, grid.predict(X_test)).round(6)],\n",
        "      'MSE': [mean_squared_error(y_test, grid.predict(X_test)).round(6)],\n",
        "      'MAPE': [mean_absolute_percentage_error(y_test, grid.predict(X_test)).round(6)]}, index = [model_name])\n",
        "  \n",
        "  d = d.append(grad_boost)\n",
        "d"
      ],
      "metadata": {
        "colab": {
          "base_uri": "https://localhost:8080/",
          "height": 265
        },
        "id": "KZsf-My0jpgO",
        "outputId": "483f9d7f-067d-4309-bd45-70acde958317"
      },
      "execution_count": 45,
      "outputs": [
        {
          "output_type": "execute_result",
          "data": {
            "text/html": [
              "<div>\n",
              "<style scoped>\n",
              "    .dataframe tbody tr th:only-of-type {\n",
              "        vertical-align: middle;\n",
              "    }\n",
              "\n",
              "    .dataframe tbody tr th {\n",
              "        vertical-align: top;\n",
              "    }\n",
              "\n",
              "    .dataframe thead th {\n",
              "        text-align: right;\n",
              "    }\n",
              "</style>\n",
              "<table border=\"1\" class=\"dataframe\">\n",
              "  <thead>\n",
              "    <tr style=\"text-align: right;\">\n",
              "      <th></th>\n",
              "      <th>r2_train</th>\n",
              "      <th>r2_test</th>\n",
              "      <th>MAE</th>\n",
              "      <th>MSE</th>\n",
              "      <th>MAPE</th>\n",
              "    </tr>\n",
              "  </thead>\n",
              "  <tbody>\n",
              "    <tr>\n",
              "      <th>GradientBoostingRegressor</th>\n",
              "      <td>0.411434</td>\n",
              "      <td>0.376680</td>\n",
              "      <td>5.138772</td>\n",
              "      <td>45.966749</td>\n",
              "      <td>inf</td>\n",
              "    </tr>\n",
              "    <tr>\n",
              "      <th>linear</th>\n",
              "      <td>0.118257</td>\n",
              "      <td>0.100812</td>\n",
              "      <td>6.355580</td>\n",
              "      <td>66.310689</td>\n",
              "      <td>inf</td>\n",
              "    </tr>\n",
              "    <tr>\n",
              "      <th>RandomForestRegressor</th>\n",
              "      <td>0.238009</td>\n",
              "      <td>0.219465</td>\n",
              "      <td>5.805328</td>\n",
              "      <td>57.560562</td>\n",
              "      <td>inf</td>\n",
              "    </tr>\n",
              "    <tr>\n",
              "      <th>LassoCV</th>\n",
              "      <td>0.015663</td>\n",
              "      <td>0.012812</td>\n",
              "      <td>6.828736</td>\n",
              "      <td>72.800226</td>\n",
              "      <td>inf</td>\n",
              "    </tr>\n",
              "    <tr>\n",
              "      <th>Ridge</th>\n",
              "      <td>0.118111</td>\n",
              "      <td>0.101013</td>\n",
              "      <td>6.354833</td>\n",
              "      <td>66.295843</td>\n",
              "      <td>inf</td>\n",
              "    </tr>\n",
              "    <tr>\n",
              "      <th>ElasticNetCV</th>\n",
              "      <td>0.015663</td>\n",
              "      <td>0.012812</td>\n",
              "      <td>6.828736</td>\n",
              "      <td>72.800226</td>\n",
              "      <td>inf</td>\n",
              "    </tr>\n",
              "    <tr>\n",
              "      <th>ExtraTreesRegressor</th>\n",
              "      <td>0.971209</td>\n",
              "      <td>0.631580</td>\n",
              "      <td>2.630515</td>\n",
              "      <td>27.169178</td>\n",
              "      <td>inf</td>\n",
              "    </tr>\n",
              "  </tbody>\n",
              "</table>\n",
              "</div>"
            ],
            "text/plain": [
              "                           r2_train   r2_test       MAE        MSE  MAPE\n",
              "GradientBoostingRegressor  0.411434  0.376680  5.138772  45.966749   inf\n",
              "linear                     0.118257  0.100812  6.355580  66.310689   inf\n",
              "RandomForestRegressor      0.238009  0.219465  5.805328  57.560562   inf\n",
              "LassoCV                    0.015663  0.012812  6.828736  72.800226   inf\n",
              "Ridge                      0.118111  0.101013  6.354833  66.295843   inf\n",
              "ElasticNetCV               0.015663  0.012812  6.828736  72.800226   inf\n",
              "ExtraTreesRegressor        0.971209  0.631580  2.630515  27.169178   inf"
            ]
          },
          "metadata": {},
          "execution_count": 45
        }
      ]
    }
  ]
}